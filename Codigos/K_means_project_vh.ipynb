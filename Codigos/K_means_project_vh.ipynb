{
 "cells": [
  {
   "cell_type": "code",
   "execution_count": 1,
   "id": "a3c390ec",
   "metadata": {},
   "outputs": [],
   "source": [
    "import numpy as np\n",
    "import pandas as pd\n",
    "import matplotlib.pyplot as plt\n",
    "import matplotlib.cm as cm\n",
    "from sklearn.cluster import DBSCAN\n",
    "from sklearn import metrics\n",
    "from geopy.distance import great_circle\n",
    "import time\n",
    "from sklearn import preprocessing\n",
    "from sklearn.cluster import KMeans\n",
    "from sklearn.preprocessing import MinMaxScaler\n",
    "import math\n",
    "\n",
    "%matplotlib inline"
   ]
  },
  {
   "cell_type": "markdown",
   "id": "a82ed2d8",
   "metadata": {},
   "source": [
    "# Lectura y procesamiento del excel de los sitios e incidencias"
   ]
  },
  {
   "cell_type": "code",
   "execution_count": 2,
   "id": "392b2b58",
   "metadata": {},
   "outputs": [
    {
     "name": "stdout",
     "output_type": "stream",
     "text": [
      "        Latitud   Longitud  zona.1 Primera fecha: Nemónico (Código único)\n",
      "0    -12.410040 -76.776040  Zona 2                                LI05791\n",
      "1    -12.397500 -76.778400  Zona 2                                LI01205\n",
      "2    -12.310530 -76.842050  Zona 2                                LI00586\n",
      "3    -12.309090 -76.819720  Zona 2                                LI06074\n",
      "4    -12.302102 -76.849823  Zona 2                                LI00392\n",
      "...         ...        ...     ...                                    ...\n",
      "2184 -11.771100 -77.171500  Zona 3                                LI01181\n",
      "2185 -11.761515 -77.160211  Zona 3                                LI05687\n",
      "2186 -11.754558 -77.155132     NaN                                LI05566\n",
      "2187 -11.747118 -77.164917  Zona 3                                LI01696\n",
      "2188 -11.746600 -77.150440  Zona 3                                LI06811\n",
      "\n",
      "[2189 rows x 4 columns]\n"
     ]
    }
   ],
   "source": [
    "df_distancia = pd.read_csv('base_sitios_resumida.csv')\n",
    "print(df_distancia)"
   ]
  },
  {
   "cell_type": "code",
   "execution_count": 3,
   "id": "011459bd",
   "metadata": {},
   "outputs": [
    {
     "data": {
      "text/html": [
       "<div>\n",
       "<style scoped>\n",
       "    .dataframe tbody tr th:only-of-type {\n",
       "        vertical-align: middle;\n",
       "    }\n",
       "\n",
       "    .dataframe tbody tr th {\n",
       "        vertical-align: top;\n",
       "    }\n",
       "\n",
       "    .dataframe thead th {\n",
       "        text-align: right;\n",
       "    }\n",
       "</style>\n",
       "<table border=\"1\" class=\"dataframe\">\n",
       "  <thead>\n",
       "    <tr style=\"text-align: right;\">\n",
       "      <th></th>\n",
       "      <th>Latitud</th>\n",
       "      <th>Longitud</th>\n",
       "      <th>zona</th>\n",
       "      <th>ID_sitios</th>\n",
       "    </tr>\n",
       "  </thead>\n",
       "  <tbody>\n",
       "    <tr>\n",
       "      <th>0</th>\n",
       "      <td>-12.410040</td>\n",
       "      <td>-76.776040</td>\n",
       "      <td>Zona 2</td>\n",
       "      <td>LI05791</td>\n",
       "    </tr>\n",
       "    <tr>\n",
       "      <th>1</th>\n",
       "      <td>-12.397500</td>\n",
       "      <td>-76.778400</td>\n",
       "      <td>Zona 2</td>\n",
       "      <td>LI01205</td>\n",
       "    </tr>\n",
       "    <tr>\n",
       "      <th>2</th>\n",
       "      <td>-12.310530</td>\n",
       "      <td>-76.842050</td>\n",
       "      <td>Zona 2</td>\n",
       "      <td>LI00586</td>\n",
       "    </tr>\n",
       "    <tr>\n",
       "      <th>3</th>\n",
       "      <td>-12.309090</td>\n",
       "      <td>-76.819720</td>\n",
       "      <td>Zona 2</td>\n",
       "      <td>LI06074</td>\n",
       "    </tr>\n",
       "    <tr>\n",
       "      <th>4</th>\n",
       "      <td>-12.302102</td>\n",
       "      <td>-76.849823</td>\n",
       "      <td>Zona 2</td>\n",
       "      <td>LI00392</td>\n",
       "    </tr>\n",
       "    <tr>\n",
       "      <th>...</th>\n",
       "      <td>...</td>\n",
       "      <td>...</td>\n",
       "      <td>...</td>\n",
       "      <td>...</td>\n",
       "    </tr>\n",
       "    <tr>\n",
       "      <th>2184</th>\n",
       "      <td>-11.771100</td>\n",
       "      <td>-77.171500</td>\n",
       "      <td>Zona 3</td>\n",
       "      <td>LI01181</td>\n",
       "    </tr>\n",
       "    <tr>\n",
       "      <th>2185</th>\n",
       "      <td>-11.761515</td>\n",
       "      <td>-77.160211</td>\n",
       "      <td>Zona 3</td>\n",
       "      <td>LI05687</td>\n",
       "    </tr>\n",
       "    <tr>\n",
       "      <th>2186</th>\n",
       "      <td>-11.754558</td>\n",
       "      <td>-77.155132</td>\n",
       "      <td>NaN</td>\n",
       "      <td>LI05566</td>\n",
       "    </tr>\n",
       "    <tr>\n",
       "      <th>2187</th>\n",
       "      <td>-11.747118</td>\n",
       "      <td>-77.164917</td>\n",
       "      <td>Zona 3</td>\n",
       "      <td>LI01696</td>\n",
       "    </tr>\n",
       "    <tr>\n",
       "      <th>2188</th>\n",
       "      <td>-11.746600</td>\n",
       "      <td>-77.150440</td>\n",
       "      <td>Zona 3</td>\n",
       "      <td>LI06811</td>\n",
       "    </tr>\n",
       "  </tbody>\n",
       "</table>\n",
       "<p>2189 rows × 4 columns</p>\n",
       "</div>"
      ],
      "text/plain": [
       "        Latitud   Longitud    zona ID_sitios\n",
       "0    -12.410040 -76.776040  Zona 2   LI05791\n",
       "1    -12.397500 -76.778400  Zona 2   LI01205\n",
       "2    -12.310530 -76.842050  Zona 2   LI00586\n",
       "3    -12.309090 -76.819720  Zona 2   LI06074\n",
       "4    -12.302102 -76.849823  Zona 2   LI00392\n",
       "...         ...        ...     ...       ...\n",
       "2184 -11.771100 -77.171500  Zona 3   LI01181\n",
       "2185 -11.761515 -77.160211  Zona 3   LI05687\n",
       "2186 -11.754558 -77.155132     NaN   LI05566\n",
       "2187 -11.747118 -77.164917  Zona 3   LI01696\n",
       "2188 -11.746600 -77.150440  Zona 3   LI06811\n",
       "\n",
       "[2189 rows x 4 columns]"
      ]
     },
     "execution_count": 3,
     "metadata": {},
     "output_type": "execute_result"
    }
   ],
   "source": [
    "df_distancia = df_distancia.rename(columns = {\"Primera fecha: Nemónico (Código único)\":\"ID_sitios\"})\n",
    "df_distancia = df_distancia.rename(columns = {\"zona.1\":\"zona\"})\n",
    "\n",
    "df_distancia"
   ]
  },
  {
   "cell_type": "code",
   "execution_count": 4,
   "id": "29975d4d",
   "metadata": {},
   "outputs": [
    {
     "data": {
      "text/plain": [
       "Index(['Nº OS', 'Tipo OS', 'Especialidad OS', 'Alarma OS', 'Fecha creación OS',\n",
       "       'Fecha programada OS', 'Fecha ingreso sitio', 'Fecha salida sitio',\n",
       "       'Fecha finalización OS', 'Descripcion OS', 'Estado proceso OS',\n",
       "       'Estado OS', 'Motivo anulada', 'Emplazamiento', 'Nombre EMP.',\n",
       "       'Dueño de Torre EMP.', 'Región EMP.', 'TIPO SITIO HISPAM', 'Zona geog',\n",
       "       'tipo atencion NUEVA', 'MES'],\n",
       "      dtype='object')"
      ]
     },
     "execution_count": 4,
     "metadata": {},
     "output_type": "execute_result"
    }
   ],
   "source": [
    "df_incidencias = pd.read_excel('Incidencias.xlsx')\n",
    "df_incidencias.columns"
   ]
  },
  {
   "cell_type": "code",
   "execution_count": 5,
   "id": "c8ac1305",
   "metadata": {},
   "outputs": [
    {
     "name": "stdout",
     "output_type": "stream",
     "text": [
      "27023\n"
     ]
    }
   ],
   "source": [
    "print(len(df_incidencias[\"Nº OS\"]))"
   ]
  },
  {
   "cell_type": "markdown",
   "id": "b98ac195",
   "metadata": {},
   "source": [
    "## K_means algoritmo"
   ]
  },
  {
   "cell_type": "code",
   "execution_count": 6,
   "id": "26993a8a",
   "metadata": {},
   "outputs": [
    {
     "data": {
      "image/png": "[encoded data removed]",
      "text/plain": [
       "<Figure size 640x480 with 1 Axes>"
      ]
     },
     "metadata": {},
     "output_type": "display_data"
    }
   ],
   "source": [
    "data_kmeans = []\n",
    "latitudes = []\n",
    "longitudes = []\n",
    "zonas = []\n",
    "df = pd.DataFrame()\n",
    "for incidencia in df_incidencias['Emplazamiento']:\n",
    "    if incidencia in df_distancia['ID_sitios'].values:\n",
    "        latitud = df_distancia.loc[df_distancia['ID_sitios'] == incidencia, 'Latitud'].values[0]\n",
    "        longitud = df_distancia.loc[df_distancia['ID_sitios'] == incidencia, 'Longitud'].values[0]\n",
    "        zona = df_distancia.loc[df_distancia['ID_sitios'] == incidencia, 'zona'].values[0]\n",
    "        latitudes.append(latitud)\n",
    "        longitudes.append(longitud)\n",
    "        zonas.append(zona)\n",
    "        data_kmeans.append([latitud, longitud])\n",
    "        plt.scatter(latitud,longitud)\n",
    "        plt.xlabel('Latitudes')\n",
    "        plt.ylabel('Longitudes')"
   ]
  },
  {
   "cell_type": "code",
   "execution_count": 7,
   "id": "5f495b31",
   "metadata": {},
   "outputs": [],
   "source": [
    "df['latitudes'] =  latitudes\n",
    "df['longitudes'] = longitudes\n",
    "df['zona'] = zonas"
   ]
  },
  {
   "cell_type": "code",
   "execution_count": 8,
   "id": "a35bd689",
   "metadata": {},
   "outputs": [
    {
     "data": {
      "text/plain": [
       "Text(0, 0.5, 'Sum of Squared Error (SSE)')"
      ]
     },
     "execution_count": 8,
     "metadata": {},
     "output_type": "execute_result"
    },
    {
     "data": {
      "image/png": "[encoded data removed]",
      "text/plain": [
       "<Figure size 800x600 with 1 Axes>"
      ]
     },
     "metadata": {},
     "output_type": "display_data"
    }
   ],
   "source": [
    "\n",
    "sse = []\n",
    "\n",
    "k_rng = range(1, 50) \n",
    "\n",
    "for k in k_rng:\n",
    "    km = KMeans(n_clusters=k)\n",
    "    km.fit(data_kmeans) \n",
    "    sse.append(km.inertia_)\n",
    "\n",
    "plt.figure(figsize=(8, 6))\n",
    "plt.plot(k_rng, sse, marker='o', linestyle='-')\n",
    "plt.title('SSE vs. K')\n",
    "plt.xlabel('Number of Clusters (K)')\n",
    "plt.ylabel('Sum of Squared Error (SSE)')"
   ]
  },
  {
   "cell_type": "code",
   "execution_count": 9,
   "id": "275962ad",
   "metadata": {},
   "outputs": [],
   "source": [
    "km = KMeans(n_clusters=10)\n",
    "y_predicted = km.fit_predict(data_kmeans)\n",
    "y_predicted\n",
    "\n",
    "df['c'] = y_predicted"
   ]
  },
  {
   "cell_type": "code",
   "execution_count": 10,
   "id": "0b46c75d",
   "metadata": {},
   "outputs": [
    {
     "data": {
      "text/plain": [
       "array([-12.07866521, -77.03930915])"
      ]
     },
     "execution_count": 10,
     "metadata": {},
     "output_type": "execute_result"
    }
   ],
   "source": [
    "centroids = km.cluster_centers_\n",
    "centroids[0]"
   ]
  },
  {
   "cell_type": "code",
   "execution_count": 11,
   "id": "55771e22",
   "metadata": {},
   "outputs": [
    {
     "data": {
      "text/plain": [
       "<matplotlib.legend.Legend at 0x1d372391208>"
      ]
     },
     "execution_count": 11,
     "metadata": {},
     "output_type": "execute_result"
    },
    {
     "data": {
      "image/png": "[encoded data removed]",
      "text/plain": [
       "<Figure size 640x480 with 1 Axes>"
      ]
     },
     "metadata": {},
     "output_type": "display_data"
    }
   ],
   "source": [
    "df1 = df[df.c==0]\n",
    "df2 = df[df.c==1]\n",
    "df3 = df[df.c==2]\n",
    "df4 = df[df.c==3]\n",
    "df5 = df[df.c==4]\n",
    "df6 = df[df.c==5]\n",
    "df7 = df[df.c==6]\n",
    "df8 = df[df.c==7]\n",
    "df9 = df[df.c==8]\n",
    "df10 = df[df.c==9]\n",
    "alpha_value = 0.5\n",
    "\n",
    "plt.scatter(df1['latitudes'],df1['longitudes'],color='green',label='Cluster 1', alpha=alpha_value)\n",
    "plt.scatter(df2['latitudes'],df2['longitudes'],color='yellow', label='Cluster 2',alpha=alpha_value)\n",
    "plt.scatter(df3['latitudes'],df3['longitudes'],color='orange',label='Cluster 3', alpha=alpha_value)\n",
    "plt.scatter(df4['latitudes'],df4['longitudes'],color='red',label='Cluster 4', alpha=alpha_value)\n",
    "plt.scatter(df5['latitudes'],df5['longitudes'],color='pink',label='Cluster 5', alpha=alpha_value)\n",
    "plt.scatter(df6['latitudes'],df6['longitudes'],color='cyan',label='Cluster 6', alpha=alpha_value)\n",
    "plt.scatter(df7['latitudes'],df7['longitudes'],color='brown',label='Cluster 7',alpha=alpha_value)\n",
    "plt.scatter(df8['latitudes'],df8['longitudes'],color='blue',label='Cluster 8', alpha=alpha_value)\n",
    "plt.scatter(df9['latitudes'],df9['longitudes'],color='black',label='Cluster 9',alpha=alpha_value)\n",
    "plt.scatter(df10['latitudes'],df10['longitudes'],color='gold',label='Cluster 10',alpha=alpha_value)\n",
    "\n",
    "\n",
    "#plt.scatter(dfb['latitud'],dfb['longitud'],color='red', label='Zona 1', marker = '+' )\n",
    "#plt.scatter(dfc['latitud'],dfc['longitud'],color='red', label='Zona 2', marker = '+' )\n",
    "#plt.scatter(dfd['latitud'],dfd['longitud'],color='red', label='Zona 3', marker = '+' )\n",
    "plt.scatter(km.cluster_centers_[:,0],km.cluster_centers_[:,1],color='purple',marker='*',label='centroid')\n",
    "plt.xlabel('Latitudes')\n",
    "plt.ylabel('Longitudes')\n",
    "plt.legend(loc='center left', bbox_to_anchor=(1, 0.5))"
   ]
  },
  {
   "cell_type": "code",
   "execution_count": 13,
   "id": "e5b9ad43",
   "metadata": {},
   "outputs": [
    {
     "name": "stdout",
     "output_type": "stream",
     "text": [
      "Para el cluster 0 se tiene las coordenadas [-12.07866521 -77.03930915] con n 1759\n",
      "Para el cluster 1 se tiene las coordenadas [-11.79258835 -77.16028681] con n 176\n",
      "Para el cluster 2 se tiene las coordenadas [-12.04512317 -76.85871394] con n 321\n",
      "Para el cluster 3 se tiene las coordenadas [-12.24338381 -76.89693142] con n 332\n",
      "Para el cluster 4 se tiene las coordenadas [-11.97155637 -76.99223482] con n 393\n",
      "Para el cluster 5 se tiene las coordenadas [-12.16126648 -76.9880177 ] con n 889\n",
      "Para el cluster 6 se tiene las coordenadas [-11.95055795 -76.72223019] con n 115\n",
      "Para el cluster 7 se tiene las coordenadas [-11.99248568 -77.0723915 ] con n 647\n",
      "Para el cluster 8 se tiene las coordenadas [-11.89616353 -77.04667507] con n 552\n",
      "Para el cluster 9 se tiene las coordenadas [-12.05946863 -76.95905725] con n 756\n"
     ]
    }
   ],
   "source": [
    "# Se calcula el número de puntos por cada cluster\n",
    "\n",
    "data_centroides = {\n",
    "    'Cluster': [],\n",
    "    'Latitud': [],\n",
    "    'Longitud':[],\n",
    "    'Cluster_Count': []\n",
    "    \n",
    "}\n",
    "\n",
    "cluster_labels = km.labels_\n",
    "from collections import Counter\n",
    "cluster_counts = dict(Counter(cluster_labels))\n",
    "cluster_counts\n",
    "for i in range(10):\n",
    "    data_centroides['Cluster'].append(i)\n",
    "    data_centroides['Latitud'].append(centroids[i][0])\n",
    "    data_centroides['Longitud'].append(centroids[i][1])\n",
    "    data_centroides['Cluster_Count'].append(cluster_counts[i])\n",
    "    \n",
    "    print(f'Para el cluster {i} se tiene las coordenadas {centroids[i]} con n {cluster_counts[i]}')\n",
    "\n",
    "    df_cluster_info = pd.DataFrame(data_centroides)\n",
    "    "
   ]
  },
  {
   "cell_type": "code",
   "execution_count": 14,
   "id": "b853c8a5",
   "metadata": {},
   "outputs": [
    {
     "data": {
      "text/html": [
       "<div>\n",
       "<style scoped>\n",
       "    .dataframe tbody tr th:only-of-type {\n",
       "        vertical-align: middle;\n",
       "    }\n",
       "\n",
       "    .dataframe tbody tr th {\n",
       "        vertical-align: top;\n",
       "    }\n",
       "\n",
       "    .dataframe thead th {\n",
       "        text-align: right;\n",
       "    }\n",
       "</style>\n",
       "<table border=\"1\" class=\"dataframe\">\n",
       "  <thead>\n",
       "    <tr style=\"text-align: right;\">\n",
       "      <th></th>\n",
       "      <th>latitudes</th>\n",
       "      <th>longitudes</th>\n",
       "      <th>zona</th>\n",
       "      <th>c</th>\n",
       "    </tr>\n",
       "  </thead>\n",
       "  <tbody>\n",
       "    <tr>\n",
       "      <th>0</th>\n",
       "      <td>-12.179665</td>\n",
       "      <td>-77.015026</td>\n",
       "      <td>Zona 2</td>\n",
       "      <td>5</td>\n",
       "    </tr>\n",
       "    <tr>\n",
       "      <th>1</th>\n",
       "      <td>-11.874043</td>\n",
       "      <td>-77.014860</td>\n",
       "      <td>Zona 3</td>\n",
       "      <td>8</td>\n",
       "    </tr>\n",
       "    <tr>\n",
       "      <th>2</th>\n",
       "      <td>-12.213259</td>\n",
       "      <td>-76.937821</td>\n",
       "      <td>Zona 2</td>\n",
       "      <td>3</td>\n",
       "    </tr>\n",
       "    <tr>\n",
       "      <th>3</th>\n",
       "      <td>-12.075156</td>\n",
       "      <td>-76.974237</td>\n",
       "      <td>Zona 2</td>\n",
       "      <td>9</td>\n",
       "    </tr>\n",
       "    <tr>\n",
       "      <th>4</th>\n",
       "      <td>-12.066750</td>\n",
       "      <td>-77.010973</td>\n",
       "      <td>Zona 3</td>\n",
       "      <td>0</td>\n",
       "    </tr>\n",
       "    <tr>\n",
       "      <th>...</th>\n",
       "      <td>...</td>\n",
       "      <td>...</td>\n",
       "      <td>...</td>\n",
       "      <td>...</td>\n",
       "    </tr>\n",
       "    <tr>\n",
       "      <th>5935</th>\n",
       "      <td>-11.889200</td>\n",
       "      <td>-77.037400</td>\n",
       "      <td>Zona 3</td>\n",
       "      <td>8</td>\n",
       "    </tr>\n",
       "    <tr>\n",
       "      <th>5936</th>\n",
       "      <td>-12.157389</td>\n",
       "      <td>-77.015950</td>\n",
       "      <td>Zona 2</td>\n",
       "      <td>5</td>\n",
       "    </tr>\n",
       "    <tr>\n",
       "      <th>5937</th>\n",
       "      <td>-12.093038</td>\n",
       "      <td>-76.960201</td>\n",
       "      <td>Zona 2</td>\n",
       "      <td>9</td>\n",
       "    </tr>\n",
       "    <tr>\n",
       "      <th>5938</th>\n",
       "      <td>-11.981300</td>\n",
       "      <td>-76.984300</td>\n",
       "      <td>Zona 3</td>\n",
       "      <td>4</td>\n",
       "    </tr>\n",
       "    <tr>\n",
       "      <th>5939</th>\n",
       "      <td>-11.779300</td>\n",
       "      <td>-77.197200</td>\n",
       "      <td>Zona 3</td>\n",
       "      <td>1</td>\n",
       "    </tr>\n",
       "  </tbody>\n",
       "</table>\n",
       "<p>5940 rows × 4 columns</p>\n",
       "</div>"
      ],
      "text/plain": [
       "      latitudes  longitudes    zona  c\n",
       "0    -12.179665  -77.015026  Zona 2  5\n",
       "1    -11.874043  -77.014860  Zona 3  8\n",
       "2    -12.213259  -76.937821  Zona 2  3\n",
       "3    -12.075156  -76.974237  Zona 2  9\n",
       "4    -12.066750  -77.010973  Zona 3  0\n",
       "...         ...         ...     ... ..\n",
       "5935 -11.889200  -77.037400  Zona 3  8\n",
       "5936 -12.157389  -77.015950  Zona 2  5\n",
       "5937 -12.093038  -76.960201  Zona 2  9\n",
       "5938 -11.981300  -76.984300  Zona 3  4\n",
       "5939 -11.779300  -77.197200  Zona 3  1\n",
       "\n",
       "[5940 rows x 4 columns]"
      ]
     },
     "execution_count": 14,
     "metadata": {},
     "output_type": "execute_result"
    }
   ],
   "source": [
    "df"
   ]
  },
  {
   "cell_type": "code",
   "execution_count": 15,
   "id": "61f43de9",
   "metadata": {},
   "outputs": [
    {
     "data": {
      "text/html": [
       "<div>\n",
       "<style scoped>\n",
       "    .dataframe tbody tr th:only-of-type {\n",
       "        vertical-align: middle;\n",
       "    }\n",
       "\n",
       "    .dataframe tbody tr th {\n",
       "        vertical-align: top;\n",
       "    }\n",
       "\n",
       "    .dataframe thead th {\n",
       "        text-align: right;\n",
       "    }\n",
       "</style>\n",
       "<table border=\"1\" class=\"dataframe\">\n",
       "  <thead>\n",
       "    <tr style=\"text-align: right;\">\n",
       "      <th></th>\n",
       "      <th>Cluster</th>\n",
       "      <th>Latitud</th>\n",
       "      <th>Longitud</th>\n",
       "      <th>Cluster_Count</th>\n",
       "    </tr>\n",
       "  </thead>\n",
       "  <tbody>\n",
       "    <tr>\n",
       "      <th>0</th>\n",
       "      <td>0</td>\n",
       "      <td>-12.078665</td>\n",
       "      <td>-77.039309</td>\n",
       "      <td>1759</td>\n",
       "    </tr>\n",
       "    <tr>\n",
       "      <th>1</th>\n",
       "      <td>1</td>\n",
       "      <td>-11.792588</td>\n",
       "      <td>-77.160287</td>\n",
       "      <td>176</td>\n",
       "    </tr>\n",
       "    <tr>\n",
       "      <th>2</th>\n",
       "      <td>2</td>\n",
       "      <td>-12.045123</td>\n",
       "      <td>-76.858714</td>\n",
       "      <td>321</td>\n",
       "    </tr>\n",
       "    <tr>\n",
       "      <th>3</th>\n",
       "      <td>3</td>\n",
       "      <td>-12.243384</td>\n",
       "      <td>-76.896931</td>\n",
       "      <td>332</td>\n",
       "    </tr>\n",
       "    <tr>\n",
       "      <th>4</th>\n",
       "      <td>4</td>\n",
       "      <td>-11.971556</td>\n",
       "      <td>-76.992235</td>\n",
       "      <td>393</td>\n",
       "    </tr>\n",
       "    <tr>\n",
       "      <th>5</th>\n",
       "      <td>5</td>\n",
       "      <td>-12.161266</td>\n",
       "      <td>-76.988018</td>\n",
       "      <td>889</td>\n",
       "    </tr>\n",
       "    <tr>\n",
       "      <th>6</th>\n",
       "      <td>6</td>\n",
       "      <td>-11.950558</td>\n",
       "      <td>-76.722230</td>\n",
       "      <td>115</td>\n",
       "    </tr>\n",
       "    <tr>\n",
       "      <th>7</th>\n",
       "      <td>7</td>\n",
       "      <td>-11.992486</td>\n",
       "      <td>-77.072391</td>\n",
       "      <td>647</td>\n",
       "    </tr>\n",
       "    <tr>\n",
       "      <th>8</th>\n",
       "      <td>8</td>\n",
       "      <td>-11.896164</td>\n",
       "      <td>-77.046675</td>\n",
       "      <td>552</td>\n",
       "    </tr>\n",
       "    <tr>\n",
       "      <th>9</th>\n",
       "      <td>9</td>\n",
       "      <td>-12.059469</td>\n",
       "      <td>-76.959057</td>\n",
       "      <td>756</td>\n",
       "    </tr>\n",
       "  </tbody>\n",
       "</table>\n",
       "</div>"
      ],
      "text/plain": [
       "   Cluster    Latitud   Longitud  Cluster_Count\n",
       "0        0 -12.078665 -77.039309           1759\n",
       "1        1 -11.792588 -77.160287            176\n",
       "2        2 -12.045123 -76.858714            321\n",
       "3        3 -12.243384 -76.896931            332\n",
       "4        4 -11.971556 -76.992235            393\n",
       "5        5 -12.161266 -76.988018            889\n",
       "6        6 -11.950558 -76.722230            115\n",
       "7        7 -11.992486 -77.072391            647\n",
       "8        8 -11.896164 -77.046675            552\n",
       "9        9 -12.059469 -76.959057            756"
      ]
     },
     "execution_count": 15,
     "metadata": {},
     "output_type": "execute_result"
    }
   ],
   "source": [
    "df_cluster_info"
   ]
  },
  {
   "cell_type": "code",
   "execution_count": 16,
   "id": "c7ce2cd7",
   "metadata": {},
   "outputs": [],
   "source": [
    "\n",
    "################################################################################################################################\n",
    "def haversine_distance(lat1, lon1, lat2, lon2):\n",
    "  \n",
    "    earth_radius = 6371.0\n",
    "    \n",
    "    lat1, lon1, lat2, lon2 = map(math.radians, [lat1, lon1, lat2, lon2])\n",
    "    \n",
    "    dlon = lon2 - lon1\n",
    "    dlat = lat2 - lat1\n",
    "    a = math.sin(dlat / 2)**2 + math.cos(lat1) * math.cos(lat2) * math.sin(dlon / 2)**2\n",
    "    c = 2 * math.atan2(math.sqrt(a), math.sqrt(1 - a))\n",
    "\n",
    "    distance = earth_radius * c\n",
    "    \n",
    "    return distance\n",
    "\n",
    "\n",
    "def cluster_center_to_farthest_point_distance(cluster_points):\n",
    "    # Calculate the center of the cluster\n",
    "    center_lat = sum(point[0] for point in cluster_points) / len(cluster_points)\n",
    "    center_lon = sum(point[1] for point in cluster_points) / len(cluster_points)\n",
    "\n",
    "    max_distance = 0\n",
    "    for point in cluster_points:\n",
    "        distance = haversine_distance(center_lat, center_lon, point[0], point[1])\n",
    "        max_distance = max(max_distance, distance)\n",
    "    \n",
    "    return max_distance\n",
    "\n",
    "\n",
    "\n"
   ]
  },
  {
   "cell_type": "code",
   "execution_count": 17,
   "id": "99f880de",
   "metadata": {},
   "outputs": [
    {
     "name": "stdout",
     "output_type": "stream",
     "text": [
      "La distancia entre el centro del cluster 1 y el punto más lejano es 7.47 kilometers.\n",
      "La distancia entre el centro del cluster 2 y el punto más lejano es 8.45 kilometers.\n",
      "La distancia entre el centro del cluster 3 y el punto más lejano es 11.54 kilometers.\n",
      "La distancia entre el centro del cluster 4 y el punto más lejano es 21.44 kilometers.\n",
      "La distancia entre el centro del cluster 5 y el punto más lejano es 9.51 kilometers.\n",
      "La distancia entre el centro del cluster 6 y el punto más lejano es 8.81 kilometers.\n",
      "La distancia entre el centro del cluster 7 y el punto más lejano es 9.15 kilometers.\n",
      "La distancia entre el centro del cluster 8 y el punto más lejano es 6.81 kilometers.\n",
      "La distancia entre el centro del cluster 9 y el punto más lejano es 14.04 kilometers.\n",
      "La distancia entre el centro del cluster 10 y el punto más lejano es 8.06 kilometers.\n"
     ]
    }
   ],
   "source": [
    "# Assuming you have a list of DataFrames, e.g., df_list, where each DataFrame corresponds to a cluster\n",
    "df_list = [df1, df2, df3, df4, df5, df6, df7, df8, df9, df10]\n",
    "\n",
    "distance_per_cluster = []\n",
    "distance_km = []\n",
    "for i, df in enumerate(df_list, start=1):\n",
    "    cluster_points = list(zip(df['latitudes'], df['longitudes']))\n",
    "    max_distance = cluster_center_to_farthest_point_distance(cluster_points)\n",
    "    print(f\"La distancia entre el centro del cluster {i} y el punto más lejano es {max_distance:.2f} kilometers.\")\n",
    "    distance_per_cluster.append(max_distance)\n",
    "df_cluster_info['distancia_km'] =distance_per_cluster"
   ]
  },
  {
   "cell_type": "code",
   "execution_count": 18,
   "id": "48daa803",
   "metadata": {},
   "outputs": [
    {
     "data": {
      "text/html": [
       "<div>\n",
       "<style scoped>\n",
       "    .dataframe tbody tr th:only-of-type {\n",
       "        vertical-align: middle;\n",
       "    }\n",
       "\n",
       "    .dataframe tbody tr th {\n",
       "        vertical-align: top;\n",
       "    }\n",
       "\n",
       "    .dataframe thead th {\n",
       "        text-align: right;\n",
       "    }\n",
       "</style>\n",
       "<table border=\"1\" class=\"dataframe\">\n",
       "  <thead>\n",
       "    <tr style=\"text-align: right;\">\n",
       "      <th></th>\n",
       "      <th>Cluster</th>\n",
       "      <th>Latitud</th>\n",
       "      <th>Longitud</th>\n",
       "      <th>Cluster_Count</th>\n",
       "      <th>distancia_km</th>\n",
       "    </tr>\n",
       "  </thead>\n",
       "  <tbody>\n",
       "    <tr>\n",
       "      <th>0</th>\n",
       "      <td>0</td>\n",
       "      <td>-12.078665</td>\n",
       "      <td>-77.039309</td>\n",
       "      <td>1759</td>\n",
       "      <td>7.467001</td>\n",
       "    </tr>\n",
       "    <tr>\n",
       "      <th>1</th>\n",
       "      <td>1</td>\n",
       "      <td>-11.792588</td>\n",
       "      <td>-77.160287</td>\n",
       "      <td>176</td>\n",
       "      <td>8.450761</td>\n",
       "    </tr>\n",
       "    <tr>\n",
       "      <th>2</th>\n",
       "      <td>2</td>\n",
       "      <td>-12.045123</td>\n",
       "      <td>-76.858714</td>\n",
       "      <td>321</td>\n",
       "      <td>11.535173</td>\n",
       "    </tr>\n",
       "    <tr>\n",
       "      <th>3</th>\n",
       "      <td>3</td>\n",
       "      <td>-12.243384</td>\n",
       "      <td>-76.896931</td>\n",
       "      <td>332</td>\n",
       "      <td>21.435486</td>\n",
       "    </tr>\n",
       "    <tr>\n",
       "      <th>4</th>\n",
       "      <td>4</td>\n",
       "      <td>-11.971556</td>\n",
       "      <td>-76.992235</td>\n",
       "      <td>393</td>\n",
       "      <td>9.513741</td>\n",
       "    </tr>\n",
       "    <tr>\n",
       "      <th>5</th>\n",
       "      <td>5</td>\n",
       "      <td>-12.161266</td>\n",
       "      <td>-76.988018</td>\n",
       "      <td>889</td>\n",
       "      <td>8.805730</td>\n",
       "    </tr>\n",
       "    <tr>\n",
       "      <th>6</th>\n",
       "      <td>6</td>\n",
       "      <td>-11.950558</td>\n",
       "      <td>-76.722230</td>\n",
       "      <td>115</td>\n",
       "      <td>9.147556</td>\n",
       "    </tr>\n",
       "    <tr>\n",
       "      <th>7</th>\n",
       "      <td>7</td>\n",
       "      <td>-11.992486</td>\n",
       "      <td>-77.072391</td>\n",
       "      <td>647</td>\n",
       "      <td>6.812810</td>\n",
       "    </tr>\n",
       "    <tr>\n",
       "      <th>8</th>\n",
       "      <td>8</td>\n",
       "      <td>-11.896164</td>\n",
       "      <td>-77.046675</td>\n",
       "      <td>552</td>\n",
       "      <td>14.038824</td>\n",
       "    </tr>\n",
       "    <tr>\n",
       "      <th>9</th>\n",
       "      <td>9</td>\n",
       "      <td>-12.059469</td>\n",
       "      <td>-76.959057</td>\n",
       "      <td>756</td>\n",
       "      <td>8.059173</td>\n",
       "    </tr>\n",
       "  </tbody>\n",
       "</table>\n",
       "</div>"
      ],
      "text/plain": [
       "   Cluster    Latitud   Longitud  Cluster_Count  distancia_km\n",
       "0        0 -12.078665 -77.039309           1759      7.467001\n",
       "1        1 -11.792588 -77.160287            176      8.450761\n",
       "2        2 -12.045123 -76.858714            321     11.535173\n",
       "3        3 -12.243384 -76.896931            332     21.435486\n",
       "4        4 -11.971556 -76.992235            393      9.513741\n",
       "5        5 -12.161266 -76.988018            889      8.805730\n",
       "6        6 -11.950558 -76.722230            115      9.147556\n",
       "7        7 -11.992486 -77.072391            647      6.812810\n",
       "8        8 -11.896164 -77.046675            552     14.038824\n",
       "9        9 -12.059469 -76.959057            756      8.059173"
      ]
     },
     "execution_count": 18,
     "metadata": {},
     "output_type": "execute_result"
    }
   ],
   "source": [
    "df_cluster_info"
   ]
  },
  {
   "cell_type": "code",
   "execution_count": 19,
   "id": "da133650",
   "metadata": {},
   "outputs": [],
   "source": []
  },
  {
   "cell_type": "markdown",
   "id": "a2bdf78c",
   "metadata": {},
   "source": [
    "# # Visualizacion de zonas"
   ]
  },
  {
   "cell_type": "code",
   "execution_count": 37,
   "id": "e59343f8",
   "metadata": {},
   "outputs": [
    {
     "data": {
      "image/png": "[encoded data removed]",
      "text/plain": [
       "<Figure size 640x480 with 1 Axes>"
      ]
     },
     "metadata": {},
     "output_type": "display_data"
    }
   ],
   "source": [
    "import matplotlib.pyplot as plt\n",
    "\n",
    "# Assuming you have already defined dfb, dfc, dfd, and km as per your code\n",
    "alpha_value = 0.3\n",
    "\n",
    "plt.scatter(dfb['Latitud'], dfb['Longitud'], color='pink', label='Zona 1', marker='+', alpha=alpha_value)\n",
    "plt.scatter(dfc['Latitud'], dfc['Longitud'], color='blue', label='Zona 2', marker='+', alpha=alpha_value)\n",
    "plt.scatter(dfd['Latitud'], dfd['Longitud'], color='yellow', label='Zona 3', marker='+', alpha=alpha_value)\n",
    "plt.scatter(km.cluster_centers_[:, 0], km.cluster_centers_[:, 1], color='red', marker='*', label='centroid')\n",
    "\n",
    "# Add labels to each cluster's centroid\n",
    "for i, centroid in enumerate(km.cluster_centers_):\n",
    "    plt.annotate(f'Cluster {i + 1}', (centroid[0], centroid[1]), textcoords=\"offset points\", xytext=(0, 10), ha='center')\n",
    "\n",
    "plt.xlabel('Latitudes')\n",
    "plt.ylabel('Longitudes')\n",
    "plt.legend(loc='center left', bbox_to_anchor=(1, 0.5))\n",
    "plt.show()\n"
   ]
  },
  {
   "cell_type": "code",
   "execution_count": 38,
   "id": "ff72f9f8",
   "metadata": {},
   "outputs": [],
   "source": [
    "zona_cluster = ['zona 1','zona 3','zona 2','zona 2','zona 3','zona 2','zona 3','zona 3','zona 3','zona 2']\n",
    "df_cluster_info['zona'] =zona_cluster"
   ]
  },
  {
   "cell_type": "code",
   "execution_count": 39,
   "id": "fb94c1df",
   "metadata": {},
   "outputs": [
    {
     "data": {
      "text/html": [
       "<div>\n",
       "<style scoped>\n",
       "    .dataframe tbody tr th:only-of-type {\n",
       "        vertical-align: middle;\n",
       "    }\n",
       "\n",
       "    .dataframe tbody tr th {\n",
       "        vertical-align: top;\n",
       "    }\n",
       "\n",
       "    .dataframe thead th {\n",
       "        text-align: right;\n",
       "    }\n",
       "</style>\n",
       "<table border=\"1\" class=\"dataframe\">\n",
       "  <thead>\n",
       "    <tr style=\"text-align: right;\">\n",
       "      <th></th>\n",
       "      <th>Cluster</th>\n",
       "      <th>Latitud</th>\n",
       "      <th>Longitud</th>\n",
       "      <th>Cluster_Count</th>\n",
       "      <th>distancia_km</th>\n",
       "      <th>zona</th>\n",
       "    </tr>\n",
       "  </thead>\n",
       "  <tbody>\n",
       "    <tr>\n",
       "      <th>0</th>\n",
       "      <td>0</td>\n",
       "      <td>-12.078665</td>\n",
       "      <td>-77.039309</td>\n",
       "      <td>1759</td>\n",
       "      <td>7.467001</td>\n",
       "      <td>zona 1</td>\n",
       "    </tr>\n",
       "    <tr>\n",
       "      <th>1</th>\n",
       "      <td>1</td>\n",
       "      <td>-11.792588</td>\n",
       "      <td>-77.160287</td>\n",
       "      <td>176</td>\n",
       "      <td>8.450761</td>\n",
       "      <td>zona 3</td>\n",
       "    </tr>\n",
       "    <tr>\n",
       "      <th>2</th>\n",
       "      <td>2</td>\n",
       "      <td>-12.045123</td>\n",
       "      <td>-76.858714</td>\n",
       "      <td>321</td>\n",
       "      <td>11.535173</td>\n",
       "      <td>zona 2</td>\n",
       "    </tr>\n",
       "    <tr>\n",
       "      <th>3</th>\n",
       "      <td>3</td>\n",
       "      <td>-12.243384</td>\n",
       "      <td>-76.896931</td>\n",
       "      <td>332</td>\n",
       "      <td>21.435486</td>\n",
       "      <td>zona 2</td>\n",
       "    </tr>\n",
       "    <tr>\n",
       "      <th>4</th>\n",
       "      <td>4</td>\n",
       "      <td>-11.971556</td>\n",
       "      <td>-76.992235</td>\n",
       "      <td>393</td>\n",
       "      <td>9.513741</td>\n",
       "      <td>zona 3</td>\n",
       "    </tr>\n",
       "    <tr>\n",
       "      <th>5</th>\n",
       "      <td>5</td>\n",
       "      <td>-12.161266</td>\n",
       "      <td>-76.988018</td>\n",
       "      <td>889</td>\n",
       "      <td>8.805730</td>\n",
       "      <td>zona 2</td>\n",
       "    </tr>\n",
       "    <tr>\n",
       "      <th>6</th>\n",
       "      <td>6</td>\n",
       "      <td>-11.950558</td>\n",
       "      <td>-76.722230</td>\n",
       "      <td>115</td>\n",
       "      <td>9.147556</td>\n",
       "      <td>zona 3</td>\n",
       "    </tr>\n",
       "    <tr>\n",
       "      <th>7</th>\n",
       "      <td>7</td>\n",
       "      <td>-11.992486</td>\n",
       "      <td>-77.072391</td>\n",
       "      <td>647</td>\n",
       "      <td>6.812810</td>\n",
       "      <td>zona 3</td>\n",
       "    </tr>\n",
       "    <tr>\n",
       "      <th>8</th>\n",
       "      <td>8</td>\n",
       "      <td>-11.896164</td>\n",
       "      <td>-77.046675</td>\n",
       "      <td>552</td>\n",
       "      <td>14.038824</td>\n",
       "      <td>zona 3</td>\n",
       "    </tr>\n",
       "    <tr>\n",
       "      <th>9</th>\n",
       "      <td>9</td>\n",
       "      <td>-12.059469</td>\n",
       "      <td>-76.959057</td>\n",
       "      <td>756</td>\n",
       "      <td>8.059173</td>\n",
       "      <td>zona 2</td>\n",
       "    </tr>\n",
       "  </tbody>\n",
       "</table>\n",
       "</div>"
      ],
      "text/plain": [
       "   Cluster    Latitud   Longitud  Cluster_Count  distancia_km    zona\n",
       "0        0 -12.078665 -77.039309           1759      7.467001  zona 1\n",
       "1        1 -11.792588 -77.160287            176      8.450761  zona 3\n",
       "2        2 -12.045123 -76.858714            321     11.535173  zona 2\n",
       "3        3 -12.243384 -76.896931            332     21.435486  zona 2\n",
       "4        4 -11.971556 -76.992235            393      9.513741  zona 3\n",
       "5        5 -12.161266 -76.988018            889      8.805730  zona 2\n",
       "6        6 -11.950558 -76.722230            115      9.147556  zona 3\n",
       "7        7 -11.992486 -77.072391            647      6.812810  zona 3\n",
       "8        8 -11.896164 -77.046675            552     14.038824  zona 3\n",
       "9        9 -12.059469 -76.959057            756      8.059173  zona 2"
      ]
     },
     "execution_count": 39,
     "metadata": {},
     "output_type": "execute_result"
    }
   ],
   "source": [
    "df_cluster_info"
   ]
  },
  {
   "cell_type": "code",
   "execution_count": 40,
   "id": "505a3c99",
   "metadata": {},
   "outputs": [],
   "source": [
    "#Se exportan los excels\n",
    "\n",
    "#excel con info de los clusters\n",
    "df_cluster_info.to_excel('cluster_info.xlsx', index=False)\n",
    "df.to_excel('incidencias_cluster.xlsx', index=False)"
   ]
  },
  {
   "cell_type": "code",
   "execution_count": 17,
   "id": "5d83c35a",
   "metadata": {},
   "outputs": [
    {
     "name": "stdout",
     "output_type": "stream",
     "text": [
      "   Cluster    Latitud   Longitud  Cluster_Count  distancia_km    zona\n",
      "0        0 -12.078665 -77.039309           1759      7.467001  zona 1\n",
      "1        1 -11.792588 -77.160287            176      8.450761  zona 3\n",
      "2        2 -12.045123 -76.858714            321     11.535173  zona 2\n",
      "3        3 -12.243384 -76.896931            332     21.435486  zona 2\n",
      "4        4 -11.971556 -76.992235            393      9.513741  zona 3\n"
     ]
    }
   ],
   "source": [
    "import pandas as pd\n",
    "df = pd.read_excel('cluster_info.xlsx')\n",
    "\n",
    "print(df.head())\n"
   ]
  },
  {
   "cell_type": "code",
   "execution_count": 18,
   "id": "52172791",
   "metadata": {},
   "outputs": [],
   "source": [
    "df_zona1 = df[df['zona']=='zona 1']\n",
    "df_zona2 = df[df['zona']=='zona 2']\n",
    "df_zona3 = df[df['zona']=='zona 3']"
   ]
  },
  {
   "cell_type": "code",
   "execution_count": 24,
   "id": "d548b841",
   "metadata": {},
   "outputs": [
    {
     "data": {
      "text/html": [
       "<div>\n",
       "<style scoped>\n",
       "    .dataframe tbody tr th:only-of-type {\n",
       "        vertical-align: middle;\n",
       "    }\n",
       "\n",
       "    .dataframe tbody tr th {\n",
       "        vertical-align: top;\n",
       "    }\n",
       "\n",
       "    .dataframe thead th {\n",
       "        text-align: right;\n",
       "    }\n",
       "</style>\n",
       "<table border=\"1\" class=\"dataframe\">\n",
       "  <thead>\n",
       "    <tr style=\"text-align: right;\">\n",
       "      <th></th>\n",
       "      <th>Cluster</th>\n",
       "      <th>Latitud</th>\n",
       "      <th>Longitud</th>\n",
       "      <th>Cluster_Count</th>\n",
       "      <th>distancia_km</th>\n",
       "      <th>zona</th>\n",
       "    </tr>\n",
       "  </thead>\n",
       "  <tbody>\n",
       "    <tr>\n",
       "      <th>2</th>\n",
       "      <td>2</td>\n",
       "      <td>-12.045123</td>\n",
       "      <td>-76.858714</td>\n",
       "      <td>321</td>\n",
       "      <td>11.535173</td>\n",
       "      <td>zona 2</td>\n",
       "    </tr>\n",
       "    <tr>\n",
       "      <th>3</th>\n",
       "      <td>3</td>\n",
       "      <td>-12.243384</td>\n",
       "      <td>-76.896931</td>\n",
       "      <td>332</td>\n",
       "      <td>21.435486</td>\n",
       "      <td>zona 2</td>\n",
       "    </tr>\n",
       "    <tr>\n",
       "      <th>5</th>\n",
       "      <td>5</td>\n",
       "      <td>-12.161266</td>\n",
       "      <td>-76.988018</td>\n",
       "      <td>889</td>\n",
       "      <td>8.805730</td>\n",
       "      <td>zona 2</td>\n",
       "    </tr>\n",
       "    <tr>\n",
       "      <th>9</th>\n",
       "      <td>9</td>\n",
       "      <td>-12.059469</td>\n",
       "      <td>-76.959057</td>\n",
       "      <td>756</td>\n",
       "      <td>8.059173</td>\n",
       "      <td>zona 2</td>\n",
       "    </tr>\n",
       "  </tbody>\n",
       "</table>\n",
       "</div>"
      ],
      "text/plain": [
       "   Cluster    Latitud   Longitud  Cluster_Count  distancia_km    zona\n",
       "2        2 -12.045123 -76.858714            321     11.535173  zona 2\n",
       "3        3 -12.243384 -76.896931            332     21.435486  zona 2\n",
       "5        5 -12.161266 -76.988018            889      8.805730  zona 2\n",
       "9        9 -12.059469 -76.959057            756      8.059173  zona 2"
      ]
     },
     "execution_count": 24,
     "metadata": {},
     "output_type": "execute_result"
    }
   ],
   "source": [
    "df_zona2"
   ]
  },
  {
   "cell_type": "code",
   "execution_count": 31,
   "id": "9d78618c",
   "metadata": {},
   "outputs": [
    {
     "name": "stdout",
     "output_type": "stream",
     "text": [
      "Middle Point Latitude: -12.110367499999999\n",
      "Middle Point Longitude: -76.97353749999999\n"
     ]
    }
   ],
   "source": [
    "def calculate_middle_point(lat1, lon1, lat2, lon2):\n",
    "    # Calculate the average latitude and longitude\n",
    "    middle_lat = (lat1 + lat2) / 2\n",
    "    middle_lon = (lon1 + lon2) / 2\n",
    "    return middle_lat, middle_lon\n",
    "\n",
    "# Example usage:\n",
    "lat1 = -12.059469  # Latitude of point 1\n",
    "lon1 = -76.959057  # Longitude of point 1\n",
    "\n",
    "lat2 = -12.161266 # Latitude of point 2\n",
    "lon2 = -76.988018  # Longitude of point 2\n",
    "\n",
    "middle_lat_zone2, middle_lon_zone2 = calculate_middle_point(lat1, lon1, lat2, lon2)\n",
    "print(\"Middle Point Latitude:\", middle_lat_zone2)\n",
    "print(\"Middle Point Longitude:\", middle_lon_zone2)\n"
   ]
  },
  {
   "cell_type": "code",
   "execution_count": 32,
   "id": "972aae03",
   "metadata": {},
   "outputs": [
    {
     "data": {
      "text/html": [
       "<div>\n",
       "<style scoped>\n",
       "    .dataframe tbody tr th:only-of-type {\n",
       "        vertical-align: middle;\n",
       "    }\n",
       "\n",
       "    .dataframe tbody tr th {\n",
       "        vertical-align: top;\n",
       "    }\n",
       "\n",
       "    .dataframe thead th {\n",
       "        text-align: right;\n",
       "    }\n",
       "</style>\n",
       "<table border=\"1\" class=\"dataframe\">\n",
       "  <thead>\n",
       "    <tr style=\"text-align: right;\">\n",
       "      <th></th>\n",
       "      <th>Cluster</th>\n",
       "      <th>Latitud</th>\n",
       "      <th>Longitud</th>\n",
       "      <th>Cluster_Count</th>\n",
       "      <th>distancia_km</th>\n",
       "      <th>zona</th>\n",
       "    </tr>\n",
       "  </thead>\n",
       "  <tbody>\n",
       "    <tr>\n",
       "      <th>1</th>\n",
       "      <td>1</td>\n",
       "      <td>-11.792588</td>\n",
       "      <td>-77.160287</td>\n",
       "      <td>176</td>\n",
       "      <td>8.450761</td>\n",
       "      <td>zona 3</td>\n",
       "    </tr>\n",
       "    <tr>\n",
       "      <th>4</th>\n",
       "      <td>4</td>\n",
       "      <td>-11.971556</td>\n",
       "      <td>-76.992235</td>\n",
       "      <td>393</td>\n",
       "      <td>9.513741</td>\n",
       "      <td>zona 3</td>\n",
       "    </tr>\n",
       "    <tr>\n",
       "      <th>6</th>\n",
       "      <td>6</td>\n",
       "      <td>-11.950558</td>\n",
       "      <td>-76.722230</td>\n",
       "      <td>115</td>\n",
       "      <td>9.147556</td>\n",
       "      <td>zona 3</td>\n",
       "    </tr>\n",
       "    <tr>\n",
       "      <th>7</th>\n",
       "      <td>7</td>\n",
       "      <td>-11.992486</td>\n",
       "      <td>-77.072391</td>\n",
       "      <td>647</td>\n",
       "      <td>6.812810</td>\n",
       "      <td>zona 3</td>\n",
       "    </tr>\n",
       "    <tr>\n",
       "      <th>8</th>\n",
       "      <td>8</td>\n",
       "      <td>-11.896164</td>\n",
       "      <td>-77.046675</td>\n",
       "      <td>552</td>\n",
       "      <td>14.038824</td>\n",
       "      <td>zona 3</td>\n",
       "    </tr>\n",
       "  </tbody>\n",
       "</table>\n",
       "</div>"
      ],
      "text/plain": [
       "   Cluster    Latitud   Longitud  Cluster_Count  distancia_km    zona\n",
       "1        1 -11.792588 -77.160287            176      8.450761  zona 3\n",
       "4        4 -11.971556 -76.992235            393      9.513741  zona 3\n",
       "6        6 -11.950558 -76.722230            115      9.147556  zona 3\n",
       "7        7 -11.992486 -77.072391            647      6.812810  zona 3\n",
       "8        8 -11.896164 -77.046675            552     14.038824  zona 3"
      ]
     },
     "execution_count": 32,
     "metadata": {},
     "output_type": "execute_result"
    }
   ],
   "source": [
    "df_zona3"
   ]
  },
  {
   "cell_type": "code",
   "execution_count": 33,
   "id": "88881c97",
   "metadata": {},
   "outputs": [
    {
     "name": "stdout",
     "output_type": "stream",
     "text": [
      "Middle Point Latitude: -11.944325\n",
      "Middle Point Longitude: -77.05953299999999\n"
     ]
    }
   ],
   "source": [
    "# Example usage:\n",
    "lat1 = -11.896164  # Latitude of point 1\n",
    "lon1 = -77.046675  # Longitude of point 1\n",
    "\n",
    "lat2 = -11.992486 # Latitude of point 2\n",
    "lon2 = -77.072391  # Longitude of point 2\n",
    "\n",
    "middle_lat_zone3, middle_lon_zone3 = calculate_middle_point(lat1, lon1, lat2, lon2)\n",
    "print(\"Middle Point Latitude:\", middle_lat)\n",
    "print(\"Middle Point Longitude:\", middle_lon)"
   ]
  },
  {
   "cell_type": "code",
   "execution_count": 34,
   "id": "a4654bfb",
   "metadata": {},
   "outputs": [
    {
     "data": {
      "text/html": [
       "<div>\n",
       "<style scoped>\n",
       "    .dataframe tbody tr th:only-of-type {\n",
       "        vertical-align: middle;\n",
       "    }\n",
       "\n",
       "    .dataframe tbody tr th {\n",
       "        vertical-align: top;\n",
       "    }\n",
       "\n",
       "    .dataframe thead th {\n",
       "        text-align: right;\n",
       "    }\n",
       "</style>\n",
       "<table border=\"1\" class=\"dataframe\">\n",
       "  <thead>\n",
       "    <tr style=\"text-align: right;\">\n",
       "      <th></th>\n",
       "      <th>Cluster</th>\n",
       "      <th>Latitud</th>\n",
       "      <th>Longitud</th>\n",
       "      <th>Cluster_Count</th>\n",
       "      <th>distancia_km</th>\n",
       "      <th>zona</th>\n",
       "    </tr>\n",
       "  </thead>\n",
       "  <tbody>\n",
       "    <tr>\n",
       "      <th>0</th>\n",
       "      <td>0</td>\n",
       "      <td>-12.078665</td>\n",
       "      <td>-77.039309</td>\n",
       "      <td>1759</td>\n",
       "      <td>7.467001</td>\n",
       "      <td>zona 1</td>\n",
       "    </tr>\n",
       "  </tbody>\n",
       "</table>\n",
       "</div>"
      ],
      "text/plain": [
       "   Cluster    Latitud   Longitud  Cluster_Count  distancia_km    zona\n",
       "0        0 -12.078665 -77.039309           1759      7.467001  zona 1"
      ]
     },
     "execution_count": 34,
     "metadata": {},
     "output_type": "execute_result"
    }
   ],
   "source": [
    "df_zona1"
   ]
  },
  {
   "cell_type": "code",
   "execution_count": 40,
   "id": "7d76241e",
   "metadata": {},
   "outputs": [],
   "source": [
    "import pandas as pd\n",
    "\n",
    "# Create a list of data containing latitude, longitude, and zone\n",
    "data = [\n",
    "    {\"Latitude\": -12.078665, \"Longitude\": -77.039309, \"Zone\": \"Zone1\"},\n",
    "    {\"Latitude\": middle_lat_zone2, \"Longitude\": middle_lon_zone2, \"Zone\": \"Zone2\"},\n",
    "    {\"Latitude\": middle_lat_zone3, \"Longitude\": middle_lon_zone3, \"Zone\": \"Zone3\"},\n",
    "    # Add more data as needed\n",
    "]\n",
    "\n",
    "# Create a DataFrame from the data\n",
    "df = pd.DataFrame(data)\n",
    "\n",
    "# Save the DataFrame to a CSV file\n",
    "df.to_excel('location_final_data.xlsx', index=False)"
   ]
  },
  {
   "cell_type": "code",
   "execution_count": 37,
   "id": "b4fb6562",
   "metadata": {},
   "outputs": [
    {
     "data": {
      "text/html": [
       "<div>\n",
       "<style scoped>\n",
       "    .dataframe tbody tr th:only-of-type {\n",
       "        vertical-align: middle;\n",
       "    }\n",
       "\n",
       "    .dataframe tbody tr th {\n",
       "        vertical-align: top;\n",
       "    }\n",
       "\n",
       "    .dataframe thead th {\n",
       "        text-align: right;\n",
       "    }\n",
       "</style>\n",
       "<table border=\"1\" class=\"dataframe\">\n",
       "  <thead>\n",
       "    <tr style=\"text-align: right;\">\n",
       "      <th></th>\n",
       "      <th>Latitude</th>\n",
       "      <th>Longitude</th>\n",
       "      <th>Zone</th>\n",
       "    </tr>\n",
       "  </thead>\n",
       "  <tbody>\n",
       "    <tr>\n",
       "      <th>0</th>\n",
       "      <td>-12.078665</td>\n",
       "      <td>-77.039309</td>\n",
       "      <td>Zone1</td>\n",
       "    </tr>\n",
       "    <tr>\n",
       "      <th>1</th>\n",
       "      <td>-12.110367</td>\n",
       "      <td>-76.973537</td>\n",
       "      <td>Zone2</td>\n",
       "    </tr>\n",
       "    <tr>\n",
       "      <th>2</th>\n",
       "      <td>-11.944325</td>\n",
       "      <td>-77.059533</td>\n",
       "      <td>Zone3</td>\n",
       "    </tr>\n",
       "  </tbody>\n",
       "</table>\n",
       "</div>"
      ],
      "text/plain": [
       "    Latitude  Longitude   Zone\n",
       "0 -12.078665 -77.039309  Zone1\n",
       "1 -12.110367 -76.973537  Zone2\n",
       "2 -11.944325 -77.059533  Zone3"
      ]
     },
     "execution_count": 37,
     "metadata": {},
     "output_type": "execute_result"
    }
   ],
   "source": [
    "df"
   ]
  },
  {
   "cell_type": "code",
   "execution_count": 4,
   "id": "ab6ce7ea",
   "metadata": {},
   "outputs": [
    {
     "name": "stdout",
     "output_type": "stream",
     "text": [
      "    Latitude  Longitude              Zone  Distancia \n",
      "0 -12.078665 -77.039309             Zone1         NaN\n",
      "1 -12.110368 -76.973537             Zone2         NaN\n",
      "2 -11.944325 -77.059533             Zone3         NaN\n",
      "3 -12.064185 -76.968248          Base Ate         NaN\n",
      "4 -12.067660 -77.038350  Base Jesus Maria         NaN\n"
     ]
    }
   ],
   "source": [
    "import pandas as pd\n",
    "df = pd.read_excel('location_final_data.xlsx')\n",
    "print(df.head())"
   ]
  },
  {
   "cell_type": "code",
   "execution_count": 14,
   "id": "dd67ac0b",
   "metadata": {},
   "outputs": [],
   "source": [
    "import math\n",
    "def haversine_distance(lat1, lon1, lat2, lon2):\n",
    "  \n",
    "    earth_radius = 6371.0\n",
    "    \n",
    "    lat1, lon1, lat2, lon2 = map(math.radians, [lat1, lon1, lat2, lon2])\n",
    "    \n",
    "    dlon = lon2 - lon1\n",
    "    dlat = lat2 - lat1\n",
    "    a = math.sin(dlat / 2)**2 + math.cos(lat1) * math.cos(lat2) * math.sin(dlon / 2)**2\n",
    "    c = 2 * math.atan2(math.sqrt(a), math.sqrt(1 - a))\n",
    "\n",
    "    distance = earth_radius * c\n",
    "    \n",
    "    return distance"
   ]
  },
  {
   "cell_type": "code",
   "execution_count": 20,
   "id": "72f65c94",
   "metadata": {},
   "outputs": [
    {
     "data": {
      "text/html": [
       "<div>\n",
       "<style scoped>\n",
       "    .dataframe tbody tr th:only-of-type {\n",
       "        vertical-align: middle;\n",
       "    }\n",
       "\n",
       "    .dataframe tbody tr th {\n",
       "        vertical-align: top;\n",
       "    }\n",
       "\n",
       "    .dataframe thead th {\n",
       "        text-align: right;\n",
       "    }\n",
       "</style>\n",
       "<table border=\"1\" class=\"dataframe\">\n",
       "  <thead>\n",
       "    <tr style=\"text-align: right;\">\n",
       "      <th></th>\n",
       "      <th>Latitude</th>\n",
       "      <th>Longitude</th>\n",
       "      <th>Zone</th>\n",
       "      <th>Distancia</th>\n",
       "    </tr>\n",
       "  </thead>\n",
       "  <tbody>\n",
       "    <tr>\n",
       "      <th>0</th>\n",
       "      <td>-12.078665</td>\n",
       "      <td>-77.039309</td>\n",
       "      <td>Zone1</td>\n",
       "      <td>NaN</td>\n",
       "    </tr>\n",
       "    <tr>\n",
       "      <th>1</th>\n",
       "      <td>-12.110368</td>\n",
       "      <td>-76.973537</td>\n",
       "      <td>Zone2</td>\n",
       "      <td>NaN</td>\n",
       "    </tr>\n",
       "    <tr>\n",
       "      <th>2</th>\n",
       "      <td>-11.944325</td>\n",
       "      <td>-77.059533</td>\n",
       "      <td>Zone3</td>\n",
       "      <td>NaN</td>\n",
       "    </tr>\n",
       "    <tr>\n",
       "      <th>3</th>\n",
       "      <td>-12.064185</td>\n",
       "      <td>-76.968248</td>\n",
       "      <td>Base Ate</td>\n",
       "      <td>NaN</td>\n",
       "    </tr>\n",
       "    <tr>\n",
       "      <th>4</th>\n",
       "      <td>-12.067660</td>\n",
       "      <td>-77.038350</td>\n",
       "      <td>Base Jesus Maria</td>\n",
       "      <td>NaN</td>\n",
       "    </tr>\n",
       "    <tr>\n",
       "      <th>5</th>\n",
       "      <td>-11.973614</td>\n",
       "      <td>-77.088940</td>\n",
       "      <td>Base Norte</td>\n",
       "      <td>NaN</td>\n",
       "    </tr>\n",
       "  </tbody>\n",
       "</table>\n",
       "</div>"
      ],
      "text/plain": [
       "    Latitude  Longitude              Zone  Distancia \n",
       "0 -12.078665 -77.039309             Zone1         NaN\n",
       "1 -12.110368 -76.973537             Zone2         NaN\n",
       "2 -11.944325 -77.059533             Zone3         NaN\n",
       "3 -12.064185 -76.968248          Base Ate         NaN\n",
       "4 -12.067660 -77.038350  Base Jesus Maria         NaN\n",
       "5 -11.973614 -77.088940        Base Norte         NaN"
      ]
     },
     "execution_count": 20,
     "metadata": {},
     "output_type": "execute_result"
    }
   ],
   "source": [
    "df"
   ]
  },
  {
   "cell_type": "code",
   "execution_count": 18,
   "id": "2ee36f16",
   "metadata": {},
   "outputs": [
    {
     "data": {
      "text/plain": [
       "1.2281351119689559"
      ]
     },
     "execution_count": 18,
     "metadata": {},
     "output_type": "execute_result"
    }
   ],
   "source": [
    "row_1 = df.iloc[0]\n",
    "row_2 = df.iloc[4]\n",
    "zone1_distance = haversine_distance(row_1['Latitude'],row_1['Longitude'], row_2['Latitude'], row_2['Longitude'])\n",
    "zone1_distance"
   ]
  },
  {
   "cell_type": "code",
   "execution_count": 21,
   "id": "e348432e",
   "metadata": {},
   "outputs": [
    {
     "data": {
      "text/plain": [
       "5.167319904331537"
      ]
     },
     "execution_count": 21,
     "metadata": {},
     "output_type": "execute_result"
    }
   ],
   "source": [
    "row_1 = df.iloc[1]\n",
    "row_2 = df.iloc[3]\n",
    "zone2_distance = haversine_distance(row_1['Latitude'],row_1['Longitude'], row_2['Latitude'], row_2['Longitude'])\n",
    "zone2_distance"
   ]
  },
  {
   "cell_type": "code",
   "execution_count": 22,
   "id": "7dc2315c",
   "metadata": {},
   "outputs": [
    {
     "data": {
      "text/plain": [
       "4.565072345127004"
      ]
     },
     "execution_count": 22,
     "metadata": {},
     "output_type": "execute_result"
    }
   ],
   "source": [
    "row_1 = df.iloc[2]\n",
    "row_2 = df.iloc[5]\n",
    "zone1_distance = haversine_distance(row_1['Latitude'],row_1['Longitude'], row_2['Latitude'], row_2['Longitude'])\n",
    "zone1_distance"
   ]
  },
  {
   "cell_type": "code",
   "execution_count": null,
   "id": "8031f7af",
   "metadata": {},
   "outputs": [],
   "source": []
  }
 ],
 "metadata": {
  "kernelspec": {
   "display_name": "Python 3 (ipykernel)",
   "language": "python",
   "name": "python3"
  },
  "language_info": {
   "codemirror_mode": {
    "name": "ipython",
    "version": 3
   },
   "file_extension": ".py",
   "mimetype": "text/x-python",
   "name": "python",
   "nbconvert_exporter": "python",
   "pygments_lexer": "ipython3",
   "version": "3.7.16"
  }
 },
 "nbformat": 4,
 "nbformat_minor": 5
}
